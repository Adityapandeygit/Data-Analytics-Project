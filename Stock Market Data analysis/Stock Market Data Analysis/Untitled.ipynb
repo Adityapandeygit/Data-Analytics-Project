{
 "cells": [
  {
   "cell_type": "code",
   "execution_count": 6,
   "id": "66e6ebdb-eb30-4160-95ca-3e7fb506e292",
   "metadata": {},
   "outputs": [],
   "source": [
    "# Stock Market Analysis for Tech Stocks\n",
    "# In this project, we'll analyse data from the stock market for some technology stocks.\n",
    "\n",
    "# Again, we'll use Pandas to extract and analyse the information, visualise it, and look at different ways to analyse the risk of a stock, based on its performance history.\n",
    "\n",
    "# Here are the questions we'll try to answer:\n",
    "\n",
    "# What was the change in a stock's price over time?\n",
    "# What was the daily return average of a stock?\n",
    "# What was the moving average of various stocks?\n",
    "# What was the correlation between daily returns of different stocks?\n",
    "# How much value do we put at risk by investing in a particular stock?\n",
    "# How can we attempt to predict future stock behaviour?"
   ]
  },
  {
   "cell_type": "code",
   "execution_count": 8,
   "id": "9d5f3d31-8e6c-4602-8919-8bee9eac10f8",
   "metadata": {},
   "outputs": [],
   "source": [
    "#Python Data Analysis imports\n",
    "import pandas as pd\n",
    "from pandas import Series,DataFrame\n",
    "import numpy as np\n"
   ]
  },
  {
   "cell_type": "code",
   "execution_count": 13,
   "id": "7aba7e39-a3af-480d-a4c6-c452b5a6addf",
   "metadata": {},
   "outputs": [
    {
     "name": "stdout",
     "output_type": "stream",
     "text": [
      "Collecting Matplotlib\n",
      "  Downloading matplotlib-3.9.2-cp312-cp312-win_amd64.whl.metadata (11 kB)\n",
      "Collecting contourpy>=1.0.1 (from Matplotlib)\n",
      "  Downloading contourpy-1.2.1-cp312-cp312-win_amd64.whl.metadata (5.8 kB)\n",
      "Collecting cycler>=0.10 (from Matplotlib)\n",
      "  Downloading cycler-0.12.1-py3-none-any.whl.metadata (3.8 kB)\n",
      "Collecting fonttools>=4.22.0 (from Matplotlib)\n",
      "  Downloading fonttools-4.53.1-cp312-cp312-win_amd64.whl.metadata (165 kB)\n",
      "     ---------------------------------------- 0.0/165.9 kB ? eta -:--:--\n",
      "     -------------- ------------------------ 61.4/165.9 kB 1.6 MB/s eta 0:00:01\n",
      "     -------------------------------------- 165.9/165.9 kB 2.5 MB/s eta 0:00:00\n",
      "Collecting kiwisolver>=1.3.1 (from Matplotlib)\n",
      "  Downloading kiwisolver-1.4.5-cp312-cp312-win_amd64.whl.metadata (6.5 kB)\n",
      "Requirement already satisfied: numpy>=1.23 in c:\\users\\a\\appdata\\local\\programs\\python\\python312\\lib\\site-packages (from Matplotlib) (1.26.4)\n",
      "Requirement already satisfied: packaging>=20.0 in c:\\users\\a\\appdata\\local\\programs\\python\\python312\\lib\\site-packages (from Matplotlib) (23.2)\n",
      "Collecting pillow>=8 (from Matplotlib)\n",
      "  Downloading pillow-10.4.0-cp312-cp312-win_amd64.whl.metadata (9.3 kB)\n",
      "Collecting pyparsing>=2.3.1 (from Matplotlib)\n",
      "  Downloading pyparsing-3.1.2-py3-none-any.whl.metadata (5.1 kB)\n",
      "Requirement already satisfied: python-dateutil>=2.7 in c:\\users\\a\\appdata\\local\\programs\\python\\python312\\lib\\site-packages (from Matplotlib) (2.8.2)\n",
      "Requirement already satisfied: six>=1.5 in c:\\users\\a\\appdata\\local\\programs\\python\\python312\\lib\\site-packages (from python-dateutil>=2.7->Matplotlib) (1.16.0)\n",
      "Downloading matplotlib-3.9.2-cp312-cp312-win_amd64.whl (7.8 MB)\n",
      "   ---------------------------------------- 0.0/7.8 MB ? eta -:--:--\n",
      "   - -------------------------------------- 0.4/7.8 MB 11.9 MB/s eta 0:00:01\n",
      "   ---- ----------------------------------- 0.9/7.8 MB 11.6 MB/s eta 0:00:01\n",
      "   -------- ------------------------------- 1.6/7.8 MB 12.5 MB/s eta 0:00:01\n",
      "   ------------ --------------------------- 2.4/7.8 MB 14.1 MB/s eta 0:00:01\n",
      "   ----------------- ---------------------- 3.5/7.8 MB 16.0 MB/s eta 0:00:01\n",
      "   ----------------------- ---------------- 4.7/7.8 MB 17.5 MB/s eta 0:00:01\n",
      "   ------------------------ --------------- 4.8/7.8 MB 15.2 MB/s eta 0:00:01\n",
      "   ------------------------ --------------- 4.9/7.8 MB 13.5 MB/s eta 0:00:01\n",
      "   ------------------------- -------------- 5.0/7.8 MB 12.3 MB/s eta 0:00:01\n",
      "   -------------------------- ------------- 5.1/7.8 MB 11.2 MB/s eta 0:00:01\n",
      "   -------------------------- ------------- 5.2/7.8 MB 10.4 MB/s eta 0:00:01\n",
      "   --------------------------- ------------ 5.3/7.8 MB 9.7 MB/s eta 0:00:01\n",
      "   --------------------------- ------------ 5.4/7.8 MB 9.1 MB/s eta 0:00:01\n",
      "   ---------------------------- ----------- 5.5/7.8 MB 8.8 MB/s eta 0:00:01\n",
      "   ---------------------------- ----------- 5.6/7.8 MB 8.2 MB/s eta 0:00:01\n",
      "   ----------------------------- ---------- 5.7/7.8 MB 7.8 MB/s eta 0:00:01\n",
      "   ----------------------------- ---------- 5.8/7.8 MB 7.6 MB/s eta 0:00:01\n",
      "   ------------------------------ --------- 6.0/7.8 MB 7.3 MB/s eta 0:00:01\n",
      "   ------------------------------ --------- 6.1/7.8 MB 7.0 MB/s eta 0:00:01\n",
      "   ------------------------------- -------- 6.2/7.8 MB 6.8 MB/s eta 0:00:01\n",
      "   -------------------------------- ------- 6.3/7.8 MB 6.6 MB/s eta 0:00:01\n",
      "   -------------------------------- ------- 6.4/7.8 MB 6.4 MB/s eta 0:00:01\n",
      "   --------------------------------- ------ 6.5/7.8 MB 6.2 MB/s eta 0:00:01\n",
      "   --------------------------------- ------ 6.6/7.8 MB 6.0 MB/s eta 0:00:01\n",
      "   ---------------------------------- ----- 6.7/7.8 MB 5.9 MB/s eta 0:00:01\n",
      "   ---------------------------------- ----- 6.8/7.8 MB 5.7 MB/s eta 0:00:01\n",
      "   ----------------------------------- ---- 6.9/7.8 MB 5.6 MB/s eta 0:00:01\n",
      "   ----------------------------------- ---- 7.0/7.8 MB 5.5 MB/s eta 0:00:01\n",
      "   ------------------------------------ --- 7.1/7.8 MB 5.4 MB/s eta 0:00:01\n",
      "   ------------------------------------- -- 7.3/7.8 MB 5.3 MB/s eta 0:00:01\n",
      "   ------------------------------------- -- 7.4/7.8 MB 5.2 MB/s eta 0:00:01\n",
      "   -------------------------------------- - 7.5/7.8 MB 5.1 MB/s eta 0:00:01\n",
      "   -------------------------------------- - 7.6/7.8 MB 5.0 MB/s eta 0:00:01\n",
      "   ---------------------------------------  7.7/7.8 MB 4.9 MB/s eta 0:00:01\n",
      "   ---------------------------------------  7.8/7.8 MB 4.8 MB/s eta 0:00:01\n",
      "   ---------------------------------------  7.8/7.8 MB 4.9 MB/s eta 0:00:01\n",
      "   ---------------------------------------- 7.8/7.8 MB 4.7 MB/s eta 0:00:00\n",
      "Downloading contourpy-1.2.1-cp312-cp312-win_amd64.whl (189 kB)\n",
      "   ---------------------------------------- 0.0/189.9 kB ? eta -:--:--\n",
      "   ---------------------------------------- 189.9/189.9 kB 5.8 MB/s eta 0:00:00\n",
      "Downloading cycler-0.12.1-py3-none-any.whl (8.3 kB)\n",
      "Downloading fonttools-4.53.1-cp312-cp312-win_amd64.whl (2.2 MB)\n",
      "   ---------------------------------------- 0.0/2.2 MB ? eta -:--:--\n",
      "   --- ------------------------------------ 0.2/2.2 MB 4.1 MB/s eta 0:00:01\n",
      "   ----- ---------------------------------- 0.3/2.2 MB 3.3 MB/s eta 0:00:01\n",
      "   ------- -------------------------------- 0.4/2.2 MB 3.0 MB/s eta 0:00:01\n",
      "   --------- ------------------------------ 0.5/2.2 MB 3.0 MB/s eta 0:00:01\n",
      "   ----------- ---------------------------- 0.6/2.2 MB 2.7 MB/s eta 0:00:01\n",
      "   ------------- -------------------------- 0.7/2.2 MB 2.7 MB/s eta 0:00:01\n",
      "   --------------- ------------------------ 0.9/2.2 MB 2.7 MB/s eta 0:00:01\n",
      "   ----------------- ---------------------- 1.0/2.2 MB 2.6 MB/s eta 0:00:01\n",
      "   ------------------- -------------------- 1.1/2.2 MB 2.5 MB/s eta 0:00:01\n",
      "   --------------------- ------------------ 1.2/2.2 MB 2.5 MB/s eta 0:00:01\n",
      "   ----------------------- ---------------- 1.3/2.2 MB 2.6 MB/s eta 0:00:01\n",
      "   ------------------------- -------------- 1.4/2.2 MB 2.5 MB/s eta 0:00:01\n",
      "   --------------------------- ------------ 1.5/2.2 MB 2.5 MB/s eta 0:00:01\n",
      "   ----------------------------- ---------- 1.6/2.2 MB 2.5 MB/s eta 0:00:01\n",
      "   ------------------------------- -------- 1.7/2.2 MB 2.5 MB/s eta 0:00:01\n",
      "   --------------------------------- ------ 1.8/2.2 MB 2.5 MB/s eta 0:00:01\n",
      "   ----------------------------------- ---- 1.9/2.2 MB 2.5 MB/s eta 0:00:01\n",
      "   ------------------------------------- -- 2.0/2.2 MB 2.5 MB/s eta 0:00:01\n",
      "   ---------------------------------------  2.2/2.2 MB 2.5 MB/s eta 0:00:01\n",
      "   ---------------------------------------- 2.2/2.2 MB 2.4 MB/s eta 0:00:00\n",
      "Downloading kiwisolver-1.4.5-cp312-cp312-win_amd64.whl (56 kB)\n",
      "   ---------------------------------------- 0.0/56.0 kB ? eta -:--:--\n",
      "   ---------------------------------------- 56.0/56.0 kB 2.9 MB/s eta 0:00:00\n",
      "Downloading pillow-10.4.0-cp312-cp312-win_amd64.whl (2.6 MB)\n",
      "   ---------------------------------------- 0.0/2.6 MB ? eta -:--:--\n",
      "   -- ------------------------------------- 0.2/2.6 MB 5.3 MB/s eta 0:00:01\n",
      "   ---- ----------------------------------- 0.3/2.6 MB 2.9 MB/s eta 0:00:01\n",
      "   ------ --------------------------------- 0.4/2.6 MB 3.0 MB/s eta 0:00:01\n",
      "   ------- -------------------------------- 0.5/2.6 MB 2.9 MB/s eta 0:00:01\n",
      "   --------- ------------------------------ 0.6/2.6 MB 2.7 MB/s eta 0:00:01\n",
      "   ----------- ---------------------------- 0.7/2.6 MB 2.7 MB/s eta 0:00:01\n",
      "   ------------ --------------------------- 0.8/2.6 MB 2.6 MB/s eta 0:00:01\n",
      "   -------------- ------------------------- 0.9/2.6 MB 2.5 MB/s eta 0:00:01\n",
      "   ---------------- ----------------------- 1.0/2.6 MB 2.5 MB/s eta 0:00:01\n",
      "   ------------------ --------------------- 1.2/2.6 MB 2.5 MB/s eta 0:00:01\n",
      "   ------------------- -------------------- 1.2/2.6 MB 2.5 MB/s eta 0:00:01\n",
      "   --------------------- ------------------ 1.4/2.6 MB 2.5 MB/s eta 0:00:01\n",
      "   ----------------------- ---------------- 1.5/2.6 MB 2.5 MB/s eta 0:00:01\n",
      "   ------------------------ --------------- 1.6/2.6 MB 2.4 MB/s eta 0:00:01\n",
      "   -------------------------- ------------- 1.7/2.6 MB 2.5 MB/s eta 0:00:01\n",
      "   ---------------------------- ----------- 1.8/2.6 MB 2.4 MB/s eta 0:00:01\n",
      "   ----------------------------- ---------- 1.9/2.6 MB 2.4 MB/s eta 0:00:01\n",
      "   ------------------------------- -------- 2.0/2.6 MB 2.4 MB/s eta 0:00:01\n",
      "   --------------------------------- ------ 2.1/2.6 MB 2.4 MB/s eta 0:00:01\n",
      "   ---------------------------------- ----- 2.2/2.6 MB 2.4 MB/s eta 0:00:01\n",
      "   ------------------------------------ --- 2.4/2.6 MB 2.4 MB/s eta 0:00:01\n",
      "   -------------------------------------- - 2.4/2.6 MB 2.4 MB/s eta 0:00:01\n",
      "   ---------------------------------------  2.5/2.6 MB 2.4 MB/s eta 0:00:01\n",
      "   ---------------------------------------- 2.6/2.6 MB 2.4 MB/s eta 0:00:00\n",
      "Downloading pyparsing-3.1.2-py3-none-any.whl (103 kB)\n",
      "   ---------------------------------------- 0.0/103.2 kB ? eta -:--:--\n",
      "   ---------------------------------------- 103.2/103.2 kB 5.8 MB/s eta 0:00:00\n",
      "Installing collected packages: pyparsing, pillow, kiwisolver, fonttools, cycler, contourpy, Matplotlib\n",
      "Successfully installed Matplotlib-3.9.2 contourpy-1.2.1 cycler-0.12.1 fonttools-4.53.1 kiwisolver-1.4.5 pillow-10.4.0 pyparsing-3.1.2\n",
      "Note: you may need to restart the kernel to use updated packages.\n"
     ]
    },
    {
     "name": "stderr",
     "output_type": "stream",
     "text": [
      "\n",
      "[notice] A new release of pip is available: 24.1.2 -> 24.2\n",
      "[notice] To update, run: python.exe -m pip install --upgrade pip\n"
     ]
    }
   ],
   "source": [
    "pip install Matplotlib"
   ]
  },
  {
   "cell_type": "code",
   "execution_count": 14,
   "id": "aba79844-3e7b-4327-ad1d-9732d382287e",
   "metadata": {},
   "outputs": [
    {
     "ename": "ModuleNotFoundError",
     "evalue": "No module named 'seaborn'",
     "output_type": "error",
     "traceback": [
      "\u001b[1;31m---------------------------------------------------------------------------\u001b[0m",
      "\u001b[1;31mModuleNotFoundError\u001b[0m                       Traceback (most recent call last)",
      "Cell \u001b[1;32mIn[14], line 3\u001b[0m\n\u001b[0;32m      1\u001b[0m \u001b[38;5;66;03m#Visualisation imports\u001b[39;00m\n\u001b[0;32m      2\u001b[0m \u001b[38;5;28;01mimport\u001b[39;00m \u001b[38;5;21;01mmatplotlib\u001b[39;00m\u001b[38;5;21;01m.\u001b[39;00m\u001b[38;5;21;01mpyplot\u001b[39;00m \u001b[38;5;28;01mas\u001b[39;00m \u001b[38;5;21;01mplt\u001b[39;00m\n\u001b[1;32m----> 3\u001b[0m \u001b[38;5;28;01mimport\u001b[39;00m \u001b[38;5;21;01mseaborn\u001b[39;00m \u001b[38;5;28;01mas\u001b[39;00m \u001b[38;5;21;01msns\u001b[39;00m\n\u001b[0;32m      4\u001b[0m sns\u001b[38;5;241m.\u001b[39mset_style(\u001b[38;5;124m'\u001b[39m\u001b[38;5;124mwhitegrid\u001b[39m\u001b[38;5;124m'\u001b[39m)\n\u001b[0;32m      5\u001b[0m get_ipython()\u001b[38;5;241m.\u001b[39mrun_line_magic(\u001b[38;5;124m'\u001b[39m\u001b[38;5;124mmatplotlib\u001b[39m\u001b[38;5;124m'\u001b[39m, \u001b[38;5;124m'\u001b[39m\u001b[38;5;124minline\u001b[39m\u001b[38;5;124m'\u001b[39m)\n",
      "\u001b[1;31mModuleNotFoundError\u001b[0m: No module named 'seaborn'"
     ]
    }
   ],
   "source": [
    "#Visualisation imports\n",
    "import matplotlib.pyplot as plt\n",
    "import seaborn as sns\n",
    "sns.set_style('whitegrid')\n",
    "%matplotlib inline"
   ]
  },
  {
   "cell_type": "code",
   "execution_count": null,
   "id": "d718c834-a7b9-41f0-940a-b6451167767c",
   "metadata": {},
   "outputs": [],
   "source": []
  },
  {
   "cell_type": "code",
   "execution_count": 15,
   "id": "2b8f1527-7193-4d23-a5ce-5d8de4eccdf0",
   "metadata": {},
   "outputs": [
    {
     "ename": "ModuleNotFoundError",
     "evalue": "No module named 'pandas_datareader'",
     "output_type": "error",
     "traceback": [
      "\u001b[1;31m---------------------------------------------------------------------------\u001b[0m",
      "\u001b[1;31mModuleNotFoundError\u001b[0m                       Traceback (most recent call last)",
      "Cell \u001b[1;32mIn[15], line 2\u001b[0m\n\u001b[0;32m      1\u001b[0m \u001b[38;5;66;03m#To grab stock data\u001b[39;00m\n\u001b[1;32m----> 2\u001b[0m \u001b[38;5;28;01mfrom\u001b[39;00m \u001b[38;5;21;01mpandas_datareader\u001b[39;00m \u001b[38;5;28;01mimport\u001b[39;00m DataReader\n\u001b[0;32m      3\u001b[0m \u001b[38;5;28;01mfrom\u001b[39;00m \u001b[38;5;21;01mdatetime\u001b[39;00m \u001b[38;5;28;01mimport\u001b[39;00m datetime\n",
      "\u001b[1;31mModuleNotFoundError\u001b[0m: No module named 'pandas_datareader'"
     ]
    }
   ],
   "source": [
    "#To grab stock data\n",
    "from pandas_datareader import DataReader\n",
    "from datetime import datetime"
   ]
  },
  {
   "cell_type": "code",
   "execution_count": null,
   "id": "6c853589-3dd9-4360-bbfc-02b05e7d609c",
   "metadata": {},
   "outputs": [],
   "source": []
  }
 ],
 "metadata": {
  "kernelspec": {
   "display_name": "Python 3 (ipykernel)",
   "language": "python",
   "name": "python3"
  },
  "language_info": {
   "codemirror_mode": {
    "name": "ipython",
    "version": 3
   },
   "file_extension": ".py",
   "mimetype": "text/x-python",
   "name": "python",
   "nbconvert_exporter": "python",
   "pygments_lexer": "ipython3",
   "version": "3.12.2"
  }
 },
 "nbformat": 4,
 "nbformat_minor": 5
}
